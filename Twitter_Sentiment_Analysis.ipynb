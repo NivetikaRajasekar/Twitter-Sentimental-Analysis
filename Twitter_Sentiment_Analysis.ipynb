{
  "nbformat": 4,
  "nbformat_minor": 0,
  "metadata": {
    "colab": {
      "provenance": []
    },
    "kernelspec": {
      "name": "python3",
      "display_name": "Python 3"
    },
    "language_info": {
      "name": "python"
    }
  },
  "cells": [
    {
      "cell_type": "code",
      "source": [
        "import tweepy\n",
        "import textblob\n",
        "from textblob import TextBlob\n",
        "import pandas as pd\n",
        "Consumer_key=\"BunPAMypD7awfp2Z6FUGyVlRX\"\n",
        "Consumer_key_Secret=\"LyCCFSlhtD9mhRdMcUnY4axnbfLzJk2P412PHYikwt1YNhkH2W\"\n",
        "Access_Token=\"1340623202851033091-1gcVgrAIZhfNf2moguoYDgb9DxPoTj\"\n",
        "Access_key_Secret=\"NuJKr7OCQgtypf9PcyAZsT3u13H3m5T4Ou57Xi0XFWwq5\" \n",
        "auth=tweepy.OAuthHandler(Consumer_key,Consumer_key_Secret)\n",
        "auth.set_access_token(Access_Token,Access_key_Secret)\n",
        "api=tweepy.API(auth)\n",
        "public_Tweets = api.search(\"sentimental analysis\")\n",
        "for tweet in public_Tweets:\n",
        "  print(tweet.text)\n",
        "  analysis = TextBlob(tweet.text)\n",
        "  print(analysis.sentiment)"
      ],
      "metadata": {
        "colab": {
          "base_uri": "https://localhost:8080/"
        },
        "id": "Cx3H70ScvEzj",
        "outputId": "3fdb8239-42f8-4d66-f0af-5643cc8ddd7e"
      },
      "execution_count": null,
      "outputs": [
        {
          "output_type": "stream",
          "name": "stdout",
          "text": [
            "@DannyCrypt Basic sentimental analysis.\n",
            "Sentiment(polarity=-0.125, subjectivity=0.5625)\n",
            "Social media management vendor @SproutSocial has acquired @repustate, an #AI-based sentimental analysis firm.… https://t.co/bYtL1v6wee\n",
            "Sentiment(polarity=-0.10833333333333334, subjectivity=0.5333333333333333)\n",
            "RT @emm4nson: Based on some TA and FA (fundamentals/sentimental analysis),\n",
            "Including new partnerships and Q1 news, made price estimations f…\n",
            "Sentiment(polarity=0.13636363636363635, subjectivity=0.45454545454545453)\n",
            "RT @Waffirian_: Spainsh Football journalist/Pundits are mostly honest in their analysis. But you see English Pundits, they are so sentiment…\n",
            "Sentiment(polarity=0.3, subjectivity=0.45)\n",
            "@ruffydfire Current situation shows we have so many unpatriotic journalists in Nigeria.\n",
            "\n",
            "They are collecting money… https://t.co/DLYe6j7N8C\n",
            "Sentiment(polarity=0.25, subjectivity=0.45)\n",
            "RT @emm4nson: Based on some TA and FA (fundamentals/sentimental analysis),\n",
            "Including new partnerships and Q1 news, made price estimations f…\n",
            "Sentiment(polarity=0.13636363636363635, subjectivity=0.45454545454545453)\n",
            "RT @I_am_patrimonio: 3) Sentimental Analysis: This is the Stats of Guts or the war of thoughts.\n",
            "What is your Mind telling you about these p…\n",
            "Sentiment(polarity=0.125, subjectivity=1.0)\n",
            "RT @I_am_patrimonio: Most times, my analyses do not go beyond the usual\n",
            "a) Blockchain Metrics\n",
            "b) Fundamental Analysis\n",
            "c) Sentimental Analys…\n",
            "Sentiment(polarity=0.0, subjectivity=0.5833333333333334)\n",
            "RT @I_am_patrimonio: 3) Sentimental Analysis: This is the Stats of Guts or the war of thoughts.\n",
            "What is your Mind telling you about these p…\n",
            "Sentiment(polarity=0.125, subjectivity=1.0)\n",
            "RT @I_am_patrimonio: Most times, my analyses do not go beyond the usual\n",
            "a) Blockchain Metrics\n",
            "b) Fundamental Analysis\n",
            "c) Sentimental Analys…\n",
            "Sentiment(polarity=0.0, subjectivity=0.5833333333333334)\n",
            "3) Sentimental Analysis: This is the Stats of Guts or the war of thoughts.\n",
            "What is your Mind telling you about thes… https://t.co/gxSf9LZOVy\n",
            "Sentiment(polarity=-0.25, subjectivity=1.0)\n",
            "Most times, my analyses do not go beyond the usual\n",
            "a) Blockchain Metrics\n",
            "b) Fundamental Analysis\n",
            "c) Sentimental Ana… https://t.co/d7lfVYBECE\n",
            "Sentiment(polarity=0.0, subjectivity=0.5833333333333334)\n",
            "Based on some TA and FA (fundamentals/sentimental analysis),\n",
            "Including new partnerships and Q1 news, made price est… https://t.co/MF0rbCMYx5\n",
            "Sentiment(polarity=0.13636363636363635, subjectivity=0.45454545454545453)\n",
            "@NaturgyMx sentimental analysis?, que listo chat-bot!!\n",
            "Sentiment(polarity=-0.390625, subjectivity=1.0)\n",
            "@Nawfia9 Call it sentimental analysis... you'd do same with an heirloom.\n",
            "Sentiment(polarity=-0.125, subjectivity=0.5625)\n"
          ]
        }
      ]
    }
  ]
}